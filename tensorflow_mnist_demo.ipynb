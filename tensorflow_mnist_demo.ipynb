{
  "nbformat": 4,
  "nbformat_minor": 0,
  "metadata": {
    "colab": {
      "provenance": []
    },
    "kernelspec": {
      "name": "python3",
      "display_name": "Python 3"
    },
    "language_info": {
      "name": "python"
    },
    "widgets": {
      "application/vnd.jupyter.widget-state+json": {
        "c9b9a611f3644ca3ba346d6f69c96da7": {
          "model_module": "@jupyter-widgets/controls",
          "model_name": "HBoxModel",
          "model_module_version": "1.5.0",
          "state": {
            "_dom_classes": [],
            "_model_module": "@jupyter-widgets/controls",
            "_model_module_version": "1.5.0",
            "_model_name": "HBoxModel",
            "_view_count": null,
            "_view_module": "@jupyter-widgets/controls",
            "_view_module_version": "1.5.0",
            "_view_name": "HBoxView",
            "box_style": "",
            "children": [
              "IPY_MODEL_e3a04ec98d734159900ef89fc1b3cb79",
              "IPY_MODEL_fd3214212f1c4444a71fb0d50d3de1b3",
              "IPY_MODEL_d75d03328b8b47178e4ca9b34e411d81"
            ],
            "layout": "IPY_MODEL_7bfce2074f9247fcb39d56fa85a2a2a8"
          }
        },
        "e3a04ec98d734159900ef89fc1b3cb79": {
          "model_module": "@jupyter-widgets/controls",
          "model_name": "HTMLModel",
          "model_module_version": "1.5.0",
          "state": {
            "_dom_classes": [],
            "_model_module": "@jupyter-widgets/controls",
            "_model_module_version": "1.5.0",
            "_model_name": "HTMLModel",
            "_view_count": null,
            "_view_module": "@jupyter-widgets/controls",
            "_view_module_version": "1.5.0",
            "_view_name": "HTMLView",
            "description": "",
            "description_tooltip": null,
            "layout": "IPY_MODEL_25204e993b3d4a9bad3ad5cfba4d27d9",
            "placeholder": "​",
            "style": "IPY_MODEL_19a1c7c2f9cd4ac4ab3cca442c55958a",
            "value": "Dl Completed...: 100%"
          }
        },
        "fd3214212f1c4444a71fb0d50d3de1b3": {
          "model_module": "@jupyter-widgets/controls",
          "model_name": "FloatProgressModel",
          "model_module_version": "1.5.0",
          "state": {
            "_dom_classes": [],
            "_model_module": "@jupyter-widgets/controls",
            "_model_module_version": "1.5.0",
            "_model_name": "FloatProgressModel",
            "_view_count": null,
            "_view_module": "@jupyter-widgets/controls",
            "_view_module_version": "1.5.0",
            "_view_name": "ProgressView",
            "bar_style": "success",
            "description": "",
            "description_tooltip": null,
            "layout": "IPY_MODEL_607cfd0678744238973c5014a0b4e50e",
            "max": 5,
            "min": 0,
            "orientation": "horizontal",
            "style": "IPY_MODEL_5454dd2c0fdd4facb608c7faecf7464f",
            "value": 5
          }
        },
        "d75d03328b8b47178e4ca9b34e411d81": {
          "model_module": "@jupyter-widgets/controls",
          "model_name": "HTMLModel",
          "model_module_version": "1.5.0",
          "state": {
            "_dom_classes": [],
            "_model_module": "@jupyter-widgets/controls",
            "_model_module_version": "1.5.0",
            "_model_name": "HTMLModel",
            "_view_count": null,
            "_view_module": "@jupyter-widgets/controls",
            "_view_module_version": "1.5.0",
            "_view_name": "HTMLView",
            "description": "",
            "description_tooltip": null,
            "layout": "IPY_MODEL_3a5cda3e039b4b4383c699c32a826128",
            "placeholder": "​",
            "style": "IPY_MODEL_e862dcfc92df42e69e8c85ea67593f6c",
            "value": " 5/5 [00:03&lt;00:00,  1.06 file/s]"
          }
        },
        "7bfce2074f9247fcb39d56fa85a2a2a8": {
          "model_module": "@jupyter-widgets/base",
          "model_name": "LayoutModel",
          "model_module_version": "1.2.0",
          "state": {
            "_model_module": "@jupyter-widgets/base",
            "_model_module_version": "1.2.0",
            "_model_name": "LayoutModel",
            "_view_count": null,
            "_view_module": "@jupyter-widgets/base",
            "_view_module_version": "1.2.0",
            "_view_name": "LayoutView",
            "align_content": null,
            "align_items": null,
            "align_self": null,
            "border": null,
            "bottom": null,
            "display": null,
            "flex": null,
            "flex_flow": null,
            "grid_area": null,
            "grid_auto_columns": null,
            "grid_auto_flow": null,
            "grid_auto_rows": null,
            "grid_column": null,
            "grid_gap": null,
            "grid_row": null,
            "grid_template_areas": null,
            "grid_template_columns": null,
            "grid_template_rows": null,
            "height": null,
            "justify_content": null,
            "justify_items": null,
            "left": null,
            "margin": null,
            "max_height": null,
            "max_width": null,
            "min_height": null,
            "min_width": null,
            "object_fit": null,
            "object_position": null,
            "order": null,
            "overflow": null,
            "overflow_x": null,
            "overflow_y": null,
            "padding": null,
            "right": null,
            "top": null,
            "visibility": null,
            "width": null
          }
        },
        "25204e993b3d4a9bad3ad5cfba4d27d9": {
          "model_module": "@jupyter-widgets/base",
          "model_name": "LayoutModel",
          "model_module_version": "1.2.0",
          "state": {
            "_model_module": "@jupyter-widgets/base",
            "_model_module_version": "1.2.0",
            "_model_name": "LayoutModel",
            "_view_count": null,
            "_view_module": "@jupyter-widgets/base",
            "_view_module_version": "1.2.0",
            "_view_name": "LayoutView",
            "align_content": null,
            "align_items": null,
            "align_self": null,
            "border": null,
            "bottom": null,
            "display": null,
            "flex": null,
            "flex_flow": null,
            "grid_area": null,
            "grid_auto_columns": null,
            "grid_auto_flow": null,
            "grid_auto_rows": null,
            "grid_column": null,
            "grid_gap": null,
            "grid_row": null,
            "grid_template_areas": null,
            "grid_template_columns": null,
            "grid_template_rows": null,
            "height": null,
            "justify_content": null,
            "justify_items": null,
            "left": null,
            "margin": null,
            "max_height": null,
            "max_width": null,
            "min_height": null,
            "min_width": null,
            "object_fit": null,
            "object_position": null,
            "order": null,
            "overflow": null,
            "overflow_x": null,
            "overflow_y": null,
            "padding": null,
            "right": null,
            "top": null,
            "visibility": null,
            "width": null
          }
        },
        "19a1c7c2f9cd4ac4ab3cca442c55958a": {
          "model_module": "@jupyter-widgets/controls",
          "model_name": "DescriptionStyleModel",
          "model_module_version": "1.5.0",
          "state": {
            "_model_module": "@jupyter-widgets/controls",
            "_model_module_version": "1.5.0",
            "_model_name": "DescriptionStyleModel",
            "_view_count": null,
            "_view_module": "@jupyter-widgets/base",
            "_view_module_version": "1.2.0",
            "_view_name": "StyleView",
            "description_width": ""
          }
        },
        "607cfd0678744238973c5014a0b4e50e": {
          "model_module": "@jupyter-widgets/base",
          "model_name": "LayoutModel",
          "model_module_version": "1.2.0",
          "state": {
            "_model_module": "@jupyter-widgets/base",
            "_model_module_version": "1.2.0",
            "_model_name": "LayoutModel",
            "_view_count": null,
            "_view_module": "@jupyter-widgets/base",
            "_view_module_version": "1.2.0",
            "_view_name": "LayoutView",
            "align_content": null,
            "align_items": null,
            "align_self": null,
            "border": null,
            "bottom": null,
            "display": null,
            "flex": null,
            "flex_flow": null,
            "grid_area": null,
            "grid_auto_columns": null,
            "grid_auto_flow": null,
            "grid_auto_rows": null,
            "grid_column": null,
            "grid_gap": null,
            "grid_row": null,
            "grid_template_areas": null,
            "grid_template_columns": null,
            "grid_template_rows": null,
            "height": null,
            "justify_content": null,
            "justify_items": null,
            "left": null,
            "margin": null,
            "max_height": null,
            "max_width": null,
            "min_height": null,
            "min_width": null,
            "object_fit": null,
            "object_position": null,
            "order": null,
            "overflow": null,
            "overflow_x": null,
            "overflow_y": null,
            "padding": null,
            "right": null,
            "top": null,
            "visibility": null,
            "width": null
          }
        },
        "5454dd2c0fdd4facb608c7faecf7464f": {
          "model_module": "@jupyter-widgets/controls",
          "model_name": "ProgressStyleModel",
          "model_module_version": "1.5.0",
          "state": {
            "_model_module": "@jupyter-widgets/controls",
            "_model_module_version": "1.5.0",
            "_model_name": "ProgressStyleModel",
            "_view_count": null,
            "_view_module": "@jupyter-widgets/base",
            "_view_module_version": "1.2.0",
            "_view_name": "StyleView",
            "bar_color": null,
            "description_width": ""
          }
        },
        "3a5cda3e039b4b4383c699c32a826128": {
          "model_module": "@jupyter-widgets/base",
          "model_name": "LayoutModel",
          "model_module_version": "1.2.0",
          "state": {
            "_model_module": "@jupyter-widgets/base",
            "_model_module_version": "1.2.0",
            "_model_name": "LayoutModel",
            "_view_count": null,
            "_view_module": "@jupyter-widgets/base",
            "_view_module_version": "1.2.0",
            "_view_name": "LayoutView",
            "align_content": null,
            "align_items": null,
            "align_self": null,
            "border": null,
            "bottom": null,
            "display": null,
            "flex": null,
            "flex_flow": null,
            "grid_area": null,
            "grid_auto_columns": null,
            "grid_auto_flow": null,
            "grid_auto_rows": null,
            "grid_column": null,
            "grid_gap": null,
            "grid_row": null,
            "grid_template_areas": null,
            "grid_template_columns": null,
            "grid_template_rows": null,
            "height": null,
            "justify_content": null,
            "justify_items": null,
            "left": null,
            "margin": null,
            "max_height": null,
            "max_width": null,
            "min_height": null,
            "min_width": null,
            "object_fit": null,
            "object_position": null,
            "order": null,
            "overflow": null,
            "overflow_x": null,
            "overflow_y": null,
            "padding": null,
            "right": null,
            "top": null,
            "visibility": null,
            "width": null
          }
        },
        "e862dcfc92df42e69e8c85ea67593f6c": {
          "model_module": "@jupyter-widgets/controls",
          "model_name": "DescriptionStyleModel",
          "model_module_version": "1.5.0",
          "state": {
            "_model_module": "@jupyter-widgets/controls",
            "_model_module_version": "1.5.0",
            "_model_name": "DescriptionStyleModel",
            "_view_count": null,
            "_view_module": "@jupyter-widgets/base",
            "_view_module_version": "1.2.0",
            "_view_name": "StyleView",
            "description_width": ""
          }
        }
      }
    }
  },
  "cells": [
    {
      "cell_type": "markdown",
      "source": [
        "# Prepare\n"
      ],
      "metadata": {
        "id": "xiDugT_cT5F2"
      }
    },
    {
      "cell_type": "code",
      "execution_count": 1,
      "metadata": {
        "id": "2t6hZ1lCSveP"
      },
      "outputs": [],
      "source": [
        "import tensorflow as tf\n",
        "import tensorflow_datasets as tfds"
      ]
    },
    {
      "cell_type": "code",
      "source": [
        "def normalize_img(image, label):\n",
        "  \"\"\"Normalizes images: `uint8` -> `float32`.\"\"\"\n",
        "  return tf.cast(image, tf.float32) / 255., label\n",
        "\n",
        "def print_confusion_matrix(model, testset, num_classes:int):\n",
        "  predictions = []\n",
        "  labels = []\n",
        "  for batch in testset:\n",
        "    x, y = batch\n",
        "    predictions += list(tf.math.argmax(model.predict(x, verbose=0), axis=1).numpy())\n",
        "    labels += list(y.numpy())\n",
        "  print('confusion matrix: ')\n",
        "  print(tf.math.confusion_matrix(labels, predictions, num_classes=num_classes).numpy())"
      ],
      "metadata": {
        "id": "YN8N2ZSSTN72"
      },
      "execution_count": 2,
      "outputs": []
    },
    {
      "cell_type": "code",
      "source": [
        "import tensorflow as tf\n",
        "import tensorflow.keras.backend as K\n",
        "\n",
        "\n",
        "class NegativePenaltySparseCategoricalCrossentropy(tf.keras.losses.Loss):\n",
        "    def __init__(self, class_num:int, p_indices:list, alpha=1.0, penalty_scale=None, \\\n",
        "                 reduction=tf.keras.losses.Reduction.AUTO, \\\n",
        "                 name='negative_penalty_sparse_categorical_crossentropy'):\n",
        "        super(NegativePenaltySparseCategoricalCrossentropy, self).__init__(reduction=reduction, name=name)\n",
        "        self.p_indices = [[p_index] for p_index in p_indices]\n",
        "        self.alpha = alpha\n",
        "        self.penalty_scale = float(len(p_indices)) if penalty_scale is None else penalty_scale\n",
        "        self.penalty_label = _get_penalty_label(class_num, p_indices)\n",
        "\n",
        "    def call(self, y_true, y_pred):\n",
        "        num_classes = y_pred.shape[-1]\n",
        "        y_true = tf.squeeze(tf.one_hot(y_true, num_classes), axis=1)\n",
        "        losses = _get_losses(y_true, y_pred, self.p_indices, self.penalty_label, self.alpha, self.penalty_scale)\n",
        "        return losses\n",
        "\n",
        "\n",
        "def _get_losses(y_true, y_pred, p_indices:list, penalty_label:list, alpha:float, penalty_scale:float):\n",
        "    batch_size = y_true.shape[0]\n",
        "    y_true = tf.cast(y_true, tf.float32)\n",
        "    # cce loss part for positive samples\n",
        "    cce_loss_sample_weights = tf.cast(\n",
        "        tf.reduce_any(\n",
        "            tf.transpose(tf.math.equal(tf.math.argmax(y_true, axis=1), p_indices), perm=(1, 0)), axis=1\n",
        "        ),\n",
        "        dtype=tf.float32\n",
        "    )\n",
        "    cce_losses = K.categorical_crossentropy(y_true, y_pred, from_logits=False)  # shape: (batch_size,)\n",
        "    cce_losses = cce_loss_sample_weights * cce_losses\n",
        "    # penalty loss part for negative samples\n",
        "    y_penalty = tf.repeat(tf.expand_dims(tf.constant(penalty_label), axis=0), batch_size, axis=0)\n",
        "    y_penalty = tf.cast(y_penalty, tf.float32)\n",
        "    penalty_loss_sample_weights = tf.where(cce_loss_sample_weights == 1.0, 0.0, 1.0)  # 1.0: negative sample, 0.0: postive sample\n",
        "    # option 1\n",
        "    # penalty_losses = 1 / K.categorical_crossentropy(y_penalty, y_pred, from_logits=False)  # shape: (batch_size,)\n",
        "    # option 2\n",
        "    # penalty_losses = K.categorical_crossentropy(y_penalty, 1.0 - y_pred, from_logits=False)  # shape: (batch_size,)\n",
        "    # option 3\n",
        "    penalty_losses = -tf.math.reduce_sum(\n",
        "        y_penalty * tf.math.log(tf.clip_by_value(1.0 - y_pred, K.epsilon(), 1.0 - K.epsilon())),\n",
        "        axis=-1\n",
        "    )\n",
        "    # scale penalty_losses\n",
        "    penalty_losses = penalty_losses / penalty_scale\n",
        "    penalty_losses = penalty_loss_sample_weights * penalty_losses\n",
        "    # total loss\n",
        "    losses = cce_losses + alpha * penalty_losses\n",
        "    return losses\n",
        "\n",
        "\n",
        "def _get_penalty_label(class_num:int, p_indices:list):\n",
        "    penalty_label = [1 if i in p_indices else 0 for i in range(0, class_num)]\n",
        "    return penalty_label"
      ],
      "metadata": {
        "id": "C60Hk_bEUzba"
      },
      "execution_count": 3,
      "outputs": []
    },
    {
      "cell_type": "code",
      "source": [
        "class NegativePenaltySparseCategoricalAccuracy(tf.keras.metrics.Metric):\n",
        "    def __init__(self, p_indices:list, name='negative_penalty_sparse_categorical_accuracy', **kwargs):\n",
        "        super().__init__(name=name, **kwargs)\n",
        "        self.p_indices = [[p_index] for p_index in p_indices]\n",
        "\n",
        "    def update_state(self, y_true, y_pred, sample_weight=None):\n",
        "        num_classes = y_pred.shape[-1]\n",
        "        y_true = tf.squeeze(tf.one_hot(y_true, num_classes), axis=1)\n",
        "        self.accuracy = _get_accuracy(y_true, y_pred, sample_weight, self.p_indices)\n",
        "\n",
        "    def result(self):\n",
        "        return self.accuracy\n",
        "\n",
        "\n",
        "def _get_accuracy(y_true, y_pred, sample_weight, p_indices:list):\n",
        "    batch_size = y_true.shape[0]\n",
        "    y_true = tf.cast(y_true, tf.float32)\n",
        "    # compute accuracy for positive samples in a batch\n",
        "    positive_sample_weights = tf.cast(\n",
        "        tf.reduce_any(\n",
        "            tf.transpose(tf.math.equal(tf.math.argmax(y_true, axis=1), p_indices), perm=(1, 0)), axis=1\n",
        "        ),\n",
        "        dtype=tf.float32\n",
        "    )  # 1.0: postive sample, 0.0: negative sample\n",
        "    positive_sample_values = tf.where(\n",
        "        tf.math.argmax(y_true, axis=1) ==  tf.math.argmax(y_pred, axis=1), 1.0, 0.0\n",
        "    )\n",
        "    positive_sample_values = positive_sample_weights * positive_sample_values\n",
        "    # compute accuracy for negative samples in a batch\n",
        "    negative_sample_weights = tf.where(positive_sample_weights == 1.0, 0.0, 1.0)  # 1.0: negative sample, 0.0: postive sample\n",
        "    negative_sample_values = tf.cast(\n",
        "        tf.reduce_all(\n",
        "            tf.transpose(tf.math.not_equal(tf.math.argmax(y_pred, axis=1), p_indices), perm=(1, 0)), axis=1\n",
        "        ),\n",
        "        dtype=tf.float32\n",
        "    )\n",
        "    negative_sample_values = negative_sample_weights * negative_sample_values\n",
        "    # combine positive values and negative values\n",
        "    positive_sample_values = tf.cast(positive_sample_values, tf.bool)\n",
        "    negative_sample_values = tf.cast(negative_sample_values, tf.bool)\n",
        "    values = tf.math.logical_or(positive_sample_values, negative_sample_values)\n",
        "    values = tf.cast(values, tf.float32)\n",
        "    if sample_weight is not None:\n",
        "        values = tf.math.multiply(values, tf.squeeze(sample_weight, axis=1))\n",
        "    else:\n",
        "        sample_weight = tf.repeat([[1.0]], batch_size, axis=0)\n",
        "        values = tf.math.multiply(values, tf.squeeze(sample_weight, axis=1))\n",
        "    accuracy = tf.math.reduce_sum(values, axis=None) / tf.math.reduce_sum(sample_weight, axis=None)\n",
        "    return accuracy"
      ],
      "metadata": {
        "id": "VN6tAJAynTTp"
      },
      "execution_count": 4,
      "outputs": []
    },
    {
      "cell_type": "code",
      "source": [
        "(ds_train, ds_test), ds_info = tfds.load(\n",
        "    'mnist',\n",
        "    split=['train', 'test'],\n",
        "    shuffle_files=True,\n",
        "    as_supervised=True,\n",
        "    with_info=True,\n",
        ")"
      ],
      "metadata": {
        "id": "SOGuCIbLTE0Z",
        "colab": {
          "base_uri": "https://localhost:8080/",
          "height": 85,
          "referenced_widgets": [
            "c9b9a611f3644ca3ba346d6f69c96da7",
            "e3a04ec98d734159900ef89fc1b3cb79",
            "fd3214212f1c4444a71fb0d50d3de1b3",
            "d75d03328b8b47178e4ca9b34e411d81",
            "7bfce2074f9247fcb39d56fa85a2a2a8",
            "25204e993b3d4a9bad3ad5cfba4d27d9",
            "19a1c7c2f9cd4ac4ab3cca442c55958a",
            "607cfd0678744238973c5014a0b4e50e",
            "5454dd2c0fdd4facb608c7faecf7464f",
            "3a5cda3e039b4b4383c699c32a826128",
            "e862dcfc92df42e69e8c85ea67593f6c"
          ]
        },
        "outputId": "61ce9fd3-dca0-428d-cf7e-c5badd5442f3"
      },
      "execution_count": 5,
      "outputs": [
        {
          "output_type": "stream",
          "name": "stdout",
          "text": [
            "Downloading and preparing dataset 11.06 MiB (download: 11.06 MiB, generated: 21.00 MiB, total: 32.06 MiB) to /root/tensorflow_datasets/mnist/3.0.1...\n"
          ]
        },
        {
          "output_type": "display_data",
          "data": {
            "text/plain": [
              "Dl Completed...:   0%|          | 0/5 [00:00<?, ? file/s]"
            ],
            "application/vnd.jupyter.widget-view+json": {
              "version_major": 2,
              "version_minor": 0,
              "model_id": "c9b9a611f3644ca3ba346d6f69c96da7"
            }
          },
          "metadata": {}
        },
        {
          "output_type": "stream",
          "name": "stdout",
          "text": [
            "Dataset mnist downloaded and prepared to /root/tensorflow_datasets/mnist/3.0.1. Subsequent calls will reuse this data.\n"
          ]
        }
      ]
    },
    {
      "cell_type": "code",
      "source": [
        "ds_train = ds_train.map(\n",
        "    normalize_img, num_parallel_calls=tf.data.AUTOTUNE)\n",
        "ds_train = ds_train.cache()\n",
        "ds_train = ds_train.shuffle(ds_info.splits['train'].num_examples)\n",
        "ds_train = ds_train.batch(32, drop_remainder=True)\n",
        "ds_train = ds_train.prefetch(tf.data.AUTOTUNE)\n",
        "\n",
        "ds_test = ds_test.map(\n",
        "    normalize_img, num_parallel_calls=tf.data.AUTOTUNE)\n",
        "ds_test = ds_test.batch(32, drop_remainder=True)\n",
        "ds_test = ds_test.cache()\n",
        "ds_test = ds_test.prefetch(tf.data.AUTOTUNE)"
      ],
      "metadata": {
        "id": "XsnnBlfdTQOW"
      },
      "execution_count": 6,
      "outputs": []
    },
    {
      "cell_type": "markdown",
      "source": [
        "# Simply train model on mnist dataset with normal categorical crossentroy loss"
      ],
      "metadata": {
        "id": "UcMSoA3dTsYN"
      }
    },
    {
      "cell_type": "code",
      "source": [
        "model = tf.keras.models.Sequential([\n",
        "  tf.keras.layers.Conv2D(16, 3, padding='same', activation='relu', input_shape=(28, 28, 1)),\n",
        "  tf.keras.layers.MaxPooling2D(),\n",
        "  tf.keras.layers.Conv2D(32, 3, padding='same', activation='relu'),\n",
        "  tf.keras.layers.MaxPooling2D(),\n",
        "  tf.keras.layers.Conv2D(64, 3, padding='same', activation='relu'),\n",
        "  tf.keras.layers.MaxPooling2D(),\n",
        "  tf.keras.layers.Flatten(),\n",
        "  tf.keras.layers.Dense(128, activation='relu'),\n",
        "  tf.keras.layers.Dense(14, activation='softmax')  # set to 14 not 10\n",
        "])\n",
        "model.compile(\n",
        "    optimizer=tf.keras.optimizers.Adam(0.001),\n",
        "    loss=tf.keras.losses.SparseCategoricalCrossentropy(from_logits=False),\n",
        "    metrics=[tf.keras.metrics.SparseCategoricalAccuracy()],\n",
        ")\n",
        "\n",
        "model.fit(\n",
        "    ds_train,\n",
        "    epochs=3,\n",
        "    validation_data=ds_test,\n",
        ")"
      ],
      "metadata": {
        "colab": {
          "base_uri": "https://localhost:8080/"
        },
        "id": "s37doum1TSS9",
        "outputId": "7fcde3ee-fd23-4ef5-a455-9dc6c0b8336c"
      },
      "execution_count": 7,
      "outputs": [
        {
          "output_type": "stream",
          "name": "stdout",
          "text": [
            "Epoch 1/3\n",
            "1875/1875 [==============================] - 75s 30ms/step - loss: 0.5221 - sparse_categorical_accuracy: 0.8389 - val_loss: 0.1267 - val_sparse_categorical_accuracy: 0.9605\n",
            "Epoch 2/3\n",
            "1875/1875 [==============================] - 54s 29ms/step - loss: 0.1202 - sparse_categorical_accuracy: 0.9621 - val_loss: 0.1152 - val_sparse_categorical_accuracy: 0.9604\n",
            "Epoch 3/3\n",
            "1875/1875 [==============================] - 52s 28ms/step - loss: 0.0857 - sparse_categorical_accuracy: 0.9725 - val_loss: 0.0667 - val_sparse_categorical_accuracy: 0.9780\n"
          ]
        },
        {
          "output_type": "execute_result",
          "data": {
            "text/plain": [
              "<keras.src.callbacks.History at 0x7f43ba7ed1b0>"
            ]
          },
          "metadata": {},
          "execution_count": 7
        }
      ]
    },
    {
      "cell_type": "code",
      "source": [
        "model.evaluate(ds_test)"
      ],
      "metadata": {
        "colab": {
          "base_uri": "https://localhost:8080/"
        },
        "id": "EB6PeD7eTZgS",
        "outputId": "9a05c835-531b-4f6d-e551-c50a74662a32"
      },
      "execution_count": 8,
      "outputs": [
        {
          "output_type": "stream",
          "name": "stdout",
          "text": [
            "312/312 [==============================] - 3s 11ms/step - loss: 0.0667 - sparse_categorical_accuracy: 0.9780\n"
          ]
        },
        {
          "output_type": "execute_result",
          "data": {
            "text/plain": [
              "[0.06670098006725311, 0.9779647588729858]"
            ]
          },
          "metadata": {},
          "execution_count": 8
        }
      ]
    },
    {
      "cell_type": "markdown",
      "source": [
        "plot confusion matrix"
      ],
      "metadata": {
        "id": "w3J8VuZRHKjw"
      }
    },
    {
      "cell_type": "code",
      "source": [
        "print_confusion_matrix(model, ds_test, num_classes=14)"
      ],
      "metadata": {
        "colab": {
          "base_uri": "https://localhost:8080/"
        },
        "id": "D6mQoDveG5z_",
        "outputId": "f4ba768e-d646-408d-84e9-7dc5e12a7b55"
      },
      "execution_count": 9,
      "outputs": [
        {
          "output_type": "stream",
          "name": "stdout",
          "text": [
            "confusion matrix: \n",
            "[[ 968    0    1    0    0    1    3    1    4    0    0    0    0    0]\n",
            " [   2 1120    1    1    0    1    4    1    3    0    0    0    0    0]\n",
            " [   2    3 1018    1    0    0    1    2    3    0    0    0    0    0]\n",
            " [   1    0    5  983    0    8    0    1    9    2    0    0    0    0]\n",
            " [   0    0    3    1  947    0   12    1    2   14    0    0    0    0]\n",
            " [   2    0    0    3    0  877    3    1    2    0    0    0    0    0]\n",
            " [   3    2    0    0    1    2  948    0    2    0    0    0    0    0]\n",
            " [   2    2   19    2    1    0    0  975    3   23    0    0    0    0]\n",
            " [   6    0    2    1    1    4    2    0  952    5    0    0    0    0]\n",
            " [   3    4    3    4    5    4    0    3    6  976    0    0    0    0]\n",
            " [   0    0    0    0    0    0    0    0    0    0    0    0    0    0]\n",
            " [   0    0    0    0    0    0    0    0    0    0    0    0    0    0]\n",
            " [   0    0    0    0    0    0    0    0    0    0    0    0    0    0]\n",
            " [   0    0    0    0    0    0    0    0    0    0    0    0    0    0]]\n"
          ]
        }
      ]
    },
    {
      "cell_type": "markdown",
      "source": [
        "# Train model on mnist dataset with the proposed 'NegativePenaltySparseCategoricalCrossentropy' loss function"
      ],
      "metadata": {
        "id": "bmB6Zok0UHZF"
      }
    },
    {
      "cell_type": "code",
      "source": [
        "model = tf.keras.models.Sequential([\n",
        "  tf.keras.layers.Conv2D(16, 3, padding='same', activation='relu', input_shape=(28, 28, 1)),\n",
        "  tf.keras.layers.MaxPooling2D(),\n",
        "  tf.keras.layers.Conv2D(32, 3, padding='same', activation='relu'),\n",
        "  tf.keras.layers.MaxPooling2D(),\n",
        "  tf.keras.layers.Conv2D(64, 3, padding='same', activation='relu'),\n",
        "  tf.keras.layers.MaxPooling2D(),\n",
        "  tf.keras.layers.Flatten(),\n",
        "  tf.keras.layers.Dense(128, activation='relu'),\n",
        "  tf.keras.layers.Dense(14, activation='softmax')  # set to 14 not 10\n",
        "])\n",
        "model.compile(\n",
        "    optimizer=tf.keras.optimizers.Adam(0.001),\n",
        "    loss=NegativePenaltySparseCategoricalCrossentropy(class_num=14, p_indices=[0, 1, 2, 3, 4, 5, 6, 7]),\n",
        "    metrics=[tf.keras.metrics.SparseCategoricalAccuracy(), NegativePenaltySparseCategoricalAccuracy(p_indices=[0, 1, 2, 3, 4, 5, 6, 7])],\n",
        ")\n",
        "\n",
        "model.fit(\n",
        "    ds_train,\n",
        "    epochs=5,\n",
        "    validation_data=ds_test,\n",
        ")"
      ],
      "metadata": {
        "colab": {
          "base_uri": "https://localhost:8080/"
        },
        "id": "H_vybAhMURt2",
        "outputId": "6b4cd16b-2bfc-4ac3-990b-99924b400889"
      },
      "execution_count": 11,
      "outputs": [
        {
          "output_type": "stream",
          "name": "stdout",
          "text": [
            "Epoch 1/5\n",
            "1875/1875 [==============================] - 53s 27ms/step - loss: 0.1265 - sparse_categorical_accuracy: 0.7757 - negative_penalty_sparse_categorical_accuracy: 0.9062 - val_loss: 0.0517 - val_sparse_categorical_accuracy: 0.7894 - val_negative_penalty_sparse_categorical_accuracy: 0.9375\n",
            "Epoch 2/5\n",
            "1875/1875 [==============================] - 51s 27ms/step - loss: 0.0357 - sparse_categorical_accuracy: 0.7942 - negative_penalty_sparse_categorical_accuracy: 1.0000 - val_loss: 0.0277 - val_sparse_categorical_accuracy: 0.7926 - val_negative_penalty_sparse_categorical_accuracy: 1.0000\n",
            "Epoch 3/5\n",
            "1875/1875 [==============================] - 53s 28ms/step - loss: 0.0246 - sparse_categorical_accuracy: 0.7969 - negative_penalty_sparse_categorical_accuracy: 0.9688 - val_loss: 0.0259 - val_sparse_categorical_accuracy: 0.7932 - val_negative_penalty_sparse_categorical_accuracy: 1.0000\n",
            "Epoch 4/5\n",
            "1875/1875 [==============================] - 51s 27ms/step - loss: 0.0191 - sparse_categorical_accuracy: 0.7982 - negative_penalty_sparse_categorical_accuracy: 1.0000 - val_loss: 0.0238 - val_sparse_categorical_accuracy: 0.7948 - val_negative_penalty_sparse_categorical_accuracy: 0.9688\n",
            "Epoch 5/5\n",
            "1875/1875 [==============================] - 51s 27ms/step - loss: 0.0147 - sparse_categorical_accuracy: 0.7995 - negative_penalty_sparse_categorical_accuracy: 1.0000 - val_loss: 0.0188 - val_sparse_categorical_accuracy: 0.7972 - val_negative_penalty_sparse_categorical_accuracy: 0.9688\n"
          ]
        },
        {
          "output_type": "execute_result",
          "data": {
            "text/plain": [
              "<keras.src.callbacks.History at 0x7f43b9504eb0>"
            ]
          },
          "metadata": {},
          "execution_count": 11
        }
      ]
    },
    {
      "cell_type": "markdown",
      "source": [
        "# Conclusion:\n",
        "#### 1. Accuracy dropped to approximately 80% (79.72%) indicates lots of images belongs to '8' and '9' were not classified as '8' or '9' as before.\n",
        "#### 2. Most images belongs to '8' and '9' were not classified as '0', '1', '2', '3', '4', '5', '6' or '7' which is exactly what we expected.\n",
        "## Above 1. and 2. proved that the proposed 'NegativePenaltySparseCategoricalCrossentropy' loss function workd as expected"
      ],
      "metadata": {
        "id": "HD5iwyAQzT84"
      }
    },
    {
      "cell_type": "code",
      "source": [
        "model.evaluate(ds_test)"
      ],
      "metadata": {
        "colab": {
          "base_uri": "https://localhost:8080/"
        },
        "id": "hw_UUts7UPHE",
        "outputId": "f6c0cc78-3f8b-411a-8d7b-1be73ed23c24"
      },
      "execution_count": 12,
      "outputs": [
        {
          "output_type": "stream",
          "name": "stdout",
          "text": [
            "312/312 [==============================] - 3s 8ms/step - loss: 0.0188 - sparse_categorical_accuracy: 0.7972 - negative_penalty_sparse_categorical_accuracy: 0.9688\n"
          ]
        },
        {
          "output_type": "execute_result",
          "data": {
            "text/plain": [
              "[0.01882198266685009, 0.7971754670143127, 0.96875]"
            ]
          },
          "metadata": {},
          "execution_count": 12
        }
      ]
    },
    {
      "cell_type": "markdown",
      "source": [
        "plot confusion matrix"
      ],
      "metadata": {
        "id": "g_A0AK1RHXH5"
      }
    },
    {
      "cell_type": "code",
      "source": [
        "print_confusion_matrix(model, ds_test, num_classes=14)"
      ],
      "metadata": {
        "colab": {
          "base_uri": "https://localhost:8080/"
        },
        "id": "vlPgR-oyHYMG",
        "outputId": "8affc9c4-a5b1-4c25-c67b-77bc2519c2e2"
      },
      "execution_count": 13,
      "outputs": [
        {
          "output_type": "stream",
          "name": "stdout",
          "text": [
            "confusion matrix: \n",
            "[[ 976    0    0    0    0    0    1    1    0    0    0    0    0    0]\n",
            " [   0 1130    1    0    0    0    0    2    0    0    0    0    0    0]\n",
            " [   0    0 1024    0    1    0    1    4    0    0    0    0    0    0]\n",
            " [   0    0    0 1004    0    1    0    4    0    0    0    0    0    0]\n",
            " [   0    0    0    0  978    0    0    2    0    0    0    0    0    0]\n",
            " [   0    0    1    8    0  876    1    2    0    0    0    0    0    0]\n",
            " [   2    3    0    0    2    2  949    0    0    0    0    0    0    0]\n",
            " [   0    1    4    0    0    0    0 1022    0    0    0    0    0    0]\n",
            " [   4    4   10   19   11    4    2   11    0    0    0    0  908    0]\n",
            " [   1    3    3    7   19    3    0   32    0    0    0    0  940    0]\n",
            " [   0    0    0    0    0    0    0    0    0    0    0    0    0    0]\n",
            " [   0    0    0    0    0    0    0    0    0    0    0    0    0    0]\n",
            " [   0    0    0    0    0    0    0    0    0    0    0    0    0    0]\n",
            " [   0    0    0    0    0    0    0    0    0    0    0    0    0    0]]\n"
          ]
        }
      ]
    }
  ]
}